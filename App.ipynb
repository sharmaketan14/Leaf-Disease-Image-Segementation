{
 "cells": [
  {
   "cell_type": "markdown",
   "id": "67f26a57",
   "metadata": {},
   "source": [
    "# Segmentation"
   ]
  },
  {
   "cell_type": "code",
   "execution_count": 10,
   "id": "2a346873",
   "metadata": {},
   "outputs": [],
   "source": [
    "import Segmentation as sg"
   ]
  },
  {
   "cell_type": "code",
   "execution_count": 11,
   "id": "77ce4582",
   "metadata": {},
   "outputs": [
    {
     "ename": "AttributeError",
     "evalue": "module 'Segmentation' has no attribute 'input_image'",
     "output_type": "error",
     "traceback": [
      "\u001b[0;31m---------------------------------------------------------------------------\u001b[0m",
      "\u001b[0;31mAttributeError\u001b[0m                            Traceback (most recent call last)",
      "Cell \u001b[0;32mIn[11], line 3\u001b[0m\n\u001b[1;32m      1\u001b[0m path \u001b[38;5;241m=\u001b[39m \u001b[38;5;124m\"\u001b[39m\u001b[38;5;124m./LeafDisease5.jpg\u001b[39m\u001b[38;5;124m\"\u001b[39m\n\u001b[0;32m----> 3\u001b[0m image \u001b[38;5;241m=\u001b[39m \u001b[43msg\u001b[49m\u001b[38;5;241;43m.\u001b[39;49m\u001b[43minput_image\u001b[49m(path)\n\u001b[1;32m      4\u001b[0m mask \u001b[38;5;241m=\u001b[39m sg\u001b[38;5;241m.\u001b[39mpre_processing_image(image)\n\u001b[1;32m      5\u001b[0m df \u001b[38;5;241m=\u001b[39m sg\u001b[38;5;241m.\u001b[39mget_mean_color_df(mask)\n",
      "\u001b[0;31mAttributeError\u001b[0m: module 'Segmentation' has no attribute 'input_image'"
     ]
    }
   ],
   "source": [
    "path = \"./LeafDisease5.jpg\"\n",
    "\n",
    "image = sg.input_image(path)\n",
    "mask = sg.pre_processing_image(image)\n",
    "df = sg.get_mean_color_df(mask)\n",
    "df = sg.k_means_clustering(df)\n",
    "img = sg.get_segmented_image(df)\n",
    "\n",
    "cv2.imwrite('color_segmentation.png', img)"
   ]
  },
  {
   "cell_type": "markdown",
   "id": "e19601bd",
   "metadata": {},
   "source": [
    "# Classification"
   ]
  },
  {
   "cell_type": "code",
   "execution_count": null,
   "id": "b3d9f119",
   "metadata": {},
   "outputs": [],
   "source": []
  }
 ],
 "metadata": {
  "kernelspec": {
   "display_name": "Python 3.10 (tensorflow)",
   "language": "python",
   "name": "tensorflow"
  },
  "language_info": {
   "codemirror_mode": {
    "name": "ipython",
    "version": 3
   },
   "file_extension": ".py",
   "mimetype": "text/x-python",
   "name": "python",
   "nbconvert_exporter": "python",
   "pygments_lexer": "ipython3",
   "version": "3.10.12"
  }
 },
 "nbformat": 4,
 "nbformat_minor": 5
}
